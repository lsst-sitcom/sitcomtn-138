{
 "cells": [
  {
   "cell_type": "markdown",
   "id": "120aa3a6-05f8-4d83-b500-297c08be16a1",
   "metadata": {},
   "source": [
    "# Rotator Emergency Stopping Distance\n",
    "\n",
    "```{abstract}\n",
    "TODO @pzorzi - add an abstract here. This part should have pure text.\n",
    "```\n",
    "\n",
    "This part can be done with MarkDown."
   ]
  },
  {
   "cell_type": "code",
   "execution_count": 1,
   "id": "9accade8-2601-4012-bba0-c160589c041a",
   "metadata": {
    "execution": {
     "iopub.execute_input": "2024-09-13T00:17:15.889111Z",
     "iopub.status.busy": "2024-09-13T00:17:15.888993Z",
     "iopub.status.idle": "2024-09-13T00:17:15.912558Z",
     "shell.execute_reply": "2024-09-13T00:17:15.912138Z",
     "shell.execute_reply.started": "2024-09-13T00:17:15.889099Z"
    }
   },
   "outputs": [],
   "source": [
    "%load_ext autoreload\n",
    "%autoreload 2\n",
    "import sitcomtn138.utils as tn138"
   ]
  },
  {
   "cell_type": "code",
   "execution_count": 2,
   "id": "8cb01e28-b8e7-4745-aa9e-1f1ee29a5a70",
   "metadata": {
    "execution": {
     "iopub.execute_input": "2024-09-13T00:17:15.913170Z",
     "iopub.status.busy": "2024-09-13T00:17:15.913024Z",
     "iopub.status.idle": "2024-09-13T00:17:15.926428Z",
     "shell.execute_reply": "2024-09-13T00:17:15.925986Z",
     "shell.execute_reply.started": "2024-09-13T00:17:15.913156Z"
    }
   },
   "outputs": [
    {
     "name": "stdout",
     "output_type": "stream",
     "text": [
      "Yes, this function is working!\n"
     ]
    }
   ],
   "source": [
    "tn138.my_test_function()"
   ]
  },
  {
   "cell_type": "code",
   "execution_count": null,
   "id": "c8658531-efc8-40ca-8b11-15f732dedb94",
   "metadata": {},
   "outputs": [],
   "source": []
  }
 ],
 "metadata": {
  "kernelspec": {
   "display_name": "LSST",
   "language": "python",
   "name": "lsst"
  },
  "language_info": {
   "codemirror_mode": {
    "name": "ipython",
    "version": 3
   },
   "file_extension": ".py",
   "mimetype": "text/x-python",
   "name": "python",
   "nbconvert_exporter": "python",
   "pygments_lexer": "ipython3",
   "version": "3.11.9"
  }
 },
 "nbformat": 4,
 "nbformat_minor": 5
}
