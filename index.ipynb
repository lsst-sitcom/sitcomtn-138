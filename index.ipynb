{
 "cells": [
  {
   "cell_type": "markdown",
   "id": "120aa3a6-05f8-4d83-b500-297c08be16a1",
   "metadata": {},
   "source": [
    "# Rotator Emergency Stopping Distance\n",
    "\n",
    "```{abstract}\n",
    "TODO @pzorzi - add an abstract here.\n",
    "```"
   ]
  },
  {
   "cell_type": "code",
   "execution_count": 1,
   "id": "9accade8-2601-4012-bba0-c160589c041a",
   "metadata": {
    "execution": {
     "iopub.execute_input": "2024-08-02T21:45:12.430426Z",
     "iopub.status.busy": "2024-08-02T21:45:12.430236Z",
     "iopub.status.idle": "2024-08-02T21:45:12.433300Z",
     "shell.execute_reply": "2024-08-02T21:45:12.432754Z",
     "shell.execute_reply.started": "2024-08-02T21:45:12.430413Z"
    }
   },
   "outputs": [
    {
     "name": "stdout",
     "output_type": "stream",
     "text": [
      "Hello world\n"
     ]
    }
   ],
   "source": [
    "print(\"Hello world\")"
   ]
  },
  {
   "cell_type": "code",
   "execution_count": null,
   "id": "8cb01e28-b8e7-4745-aa9e-1f1ee29a5a70",
   "metadata": {},
   "outputs": [],
   "source": []
  }
 ],
 "metadata": {
  "kernelspec": {
   "display_name": "LSST",
   "language": "python",
   "name": "lsst"
  },
  "language_info": {
   "codemirror_mode": {
    "name": "ipython",
    "version": 3
   },
   "file_extension": ".py",
   "mimetype": "text/x-python",
   "name": "python",
   "nbconvert_exporter": "python",
   "pygments_lexer": "ipython3",
   "version": "3.11.7"
  }
 },
 "nbformat": 4,
 "nbformat_minor": 5
}
